{
 "cells": [
  {
   "cell_type": "markdown",
   "metadata": {},
   "source": [
    "Buatlah sebuah function yang dapat mengkonversi suhu dari kelvin ke celcius, dan celcius ke kelvin."
   ]
  },
  {
   "cell_type": "markdown",
   "metadata": {},
   "source": [
    "Buatlah sebuah function yang dapat mengkonversi suhu ke fahrenheit. Tambahkan parameter untuk memastikan bahwa argumen yang dimasukan adalah celcius atau kelvin. Panggil function yang pertama jika diperlukan.\n"
   ]
  },
  {
   "cell_type": "markdown",
   "metadata": {},
   "source": [
    "Buatlah sebuah function yang dapat mengkonversi suhu dari fahrenheit. Berikan argumen untuk memastikan bahwa outputnya dalah celcius atau kelvin."
   ]
  },
  {
   "cell_type": "markdown",
   "metadata": {},
   "source": [
    "Berikan dokumentasi pada setiap baris kode yang kalian tulis."
   ]
  },
  {
   "cell_type": "code",
   "execution_count": 16,
   "metadata": {},
   "outputs": [
    {
     "name": "stdout",
     "output_type": "stream",
     "text": [
      "278\n",
      "-268\n"
     ]
    }
   ],
   "source": [
    "\n",
    "def conv_k(c):\n",
    "    convert_k = c + 273\n",
    "    return convert_k\n",
    "\n",
    "def conv_c(k):\n",
    "    convert_c = k - 273\n",
    "    return convert_c\n",
    "\n",
    "print (conv_k(5))\n",
    "print (conv_c(5))\n"
   ]
  },
  {
   "cell_type": "code",
   "execution_count": 23,
   "metadata": {},
   "outputs": [
    {
     "name": "stdout",
     "output_type": "stream",
     "text": [
      "-450.4\n"
     ]
    }
   ],
   "source": [
    "\n",
    "def conv(suhu,satuan):\n",
    "    if satuan == 'kelvin':\n",
    "        convert_f = 9 * (suhu-273) / 5 + 32\n",
    "    elif satuan == 'celcius':\n",
    "        convert_f = 9 * suhu / 5 + 32\n",
    "    return convert_f\n",
    "\n",
    "print (conv(5,'kelvin'))"
   ]
  },
  {
   "cell_type": "code",
   "execution_count": 24,
   "metadata": {},
   "outputs": [
    {
     "name": "stdout",
     "output_type": "stream",
     "text": [
      "148.88888888888889\n"
     ]
    }
   ],
   "source": [
    "def conv(f,satuan):\n",
    "    if satuan == 'kelvin':\n",
    "        convert_f = (f - 32) * 5/9 + 273\n",
    "    elif satuan == 'celcius':\n",
    "        convert_f = (f - 32) * 5/9\n",
    "    return convert_f\n",
    "\n",
    "print (conv(300,'celcius'))"
   ]
  }
 ],
 "metadata": {
  "interpreter": {
   "hash": "49fdda9a8f1b43ecf94cbf6adfec0c9149aed4e40f425dad389976f3db3c5b4b"
  },
  "kernelspec": {
   "display_name": "Python 3.10.1 64-bit",
   "language": "python",
   "name": "python3"
  },
  "language_info": {
   "codemirror_mode": {
    "name": "ipython",
    "version": 3
   },
   "file_extension": ".py",
   "mimetype": "text/x-python",
   "name": "python",
   "nbconvert_exporter": "python",
   "pygments_lexer": "ipython3",
   "version": "3.10.1"
  },
  "orig_nbformat": 4
 },
 "nbformat": 4,
 "nbformat_minor": 2
}
